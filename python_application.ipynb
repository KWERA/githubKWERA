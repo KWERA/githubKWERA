{
 "cells": [
  {
   "cell_type": "markdown",
   "id": "aceb1cdd-24ba-4f8d-826d-69ba10648314",
   "metadata": {},
   "source": [
    "### Example 1: Compounding interest calculator"
   ]
  },
  {
   "cell_type": "code",
   "execution_count": null,
   "id": "30ea5a1f-0163-438c-bb0b-bfd9606138bf",
   "metadata": {},
   "outputs": [],
   "source": [
    "# Compounding calculator - annual \n",
    "percentage  = 0.12\n",
    "amount  = float(input (\"Enter amount you wish to save.\"))\n",
    "period = int(input(\"Enter Period in years\"))\n",
    "p=period+1\n",
    "\n",
    "#def profit_calc():\n",
    "year = 0\n",
    "for i in range(p):\n",
    "    amount=amount+(amount*percentage)\n",
    "    #print(round(amount))\n",
    "    year += 1\n",
    "    print('year',year,\" \",(round(amount)))\n",
    "\n",
    "\n",
    "# Compounding calculator - Monthly\n",
    "profit_rate = float(input (\"Enter the percentage interest rate \"))\n",
    "amount  = float(input (\"Enter amount you wish to save.\"))\n",
    "period = int(input(\"Enter Period in Months\"))\n",
    "percentage  = profit_rate/100\n",
    "p=period+1\n",
    "\n",
    "#def profit_calc():\n",
    "month= 0\n",
    "for i in range(p):\n",
    "    amount=amount+(amount*percentage)\n",
    "    #print(round(amount))\n",
    "    month += 1\n",
    "    print('month',month,\" \",(round(amount)))\n"
   ]
  }
 ],
 "metadata": {
  "kernelspec": {
   "display_name": "Python 3 (ipykernel)",
   "language": "python",
   "name": "python3"
  },
  "language_info": {
   "codemirror_mode": {
    "name": "ipython",
    "version": 3
   },
   "file_extension": ".py",
   "mimetype": "text/x-python",
   "name": "python",
   "nbconvert_exporter": "python",
   "pygments_lexer": "ipython3",
   "version": "3.8.2"
  }
 },
 "nbformat": 4,
 "nbformat_minor": 5
}
